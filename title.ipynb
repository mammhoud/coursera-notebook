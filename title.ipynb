{
 "cells": [
  {
   "cell_type": "markdown",
   "metadata": {},
   "source": [
    "# Title"
   ]
  },
  {
   "cell_type": "markdown",
   "metadata": {},
   "source": [
    "# data science languages"
   ]
  },
  {
   "cell_type": "markdown",
   "metadata": {},
   "source": [
    "Python\n",
    "\n",
    "R\n",
    "\n",
    "SQL\n",
    "\n",
    "Java\n",
    "\n",
    "Julia\n",
    "\n",
    "Scala\n",
    "\n",
    "C/C++\n",
    "\n",
    "JavaScript\n",
    "\n",
    "Swift\n",
    "\n",
    "Go\n",
    "\n",
    "MATLAB\n",
    "\n",
    "SAS\n"
   ]
  },
  {
   "cell_type": "markdown",
   "metadata": {},
   "source": [
    "# data science libraries"
   ]
  },
  {
   "cell_type": "markdown",
   "metadata": {},
   "source": [
    "TensorFlow\n",
    "\n",
    "NumPy\n",
    "\n",
    "SciPy \n",
    "\n",
    "Pandas\n",
    "\n",
    "Matplotlib \n",
    "\n",
    "Keras\n",
    "\n",
    "SciKit-Learn\n",
    "\n",
    "PyTorch\n",
    "\n",
    "Scrapy\n",
    "\n",
    "BeautifulSoup\n",
    "\n",
    "LightGBM\n",
    "\n",
    "ELI5\n",
    "\n",
    "Theano\n",
    "\n",
    "NuPIC\n",
    "\n",
    "Ramp\n",
    "\n",
    "Pipenv\n",
    "\n",
    "Bob\n",
    "\n",
    "PyBrain\n",
    "\n",
    "Caffe2\n",
    "\n",
    "Chainer\n",
    "\n"
   ]
  },
  {
   "cell_type": "markdown",
   "metadata": {},
   "source": [
    "# data science Tools"
   ]
  },
  {
   "cell_type": "markdown",
   "metadata": {},
   "source": [
    "Matplotlib\n",
    "\n",
    "Apache Spark\n",
    "\n",
    "Excel\n",
    "\n",
    "SAS\n",
    "\n",
    "MATLAB\n",
    "\n",
    "Project Jupyter\n",
    "\n",
    "TensorFlow\n",
    "\n",
    "MongoDB\n",
    "\n",
    "Trifacta\n",
    "\n",
    "NLTK\n"
   ]
  },
  {
   "cell_type": "markdown",
   "metadata": {},
   "source": [
    "# introducing arithmetic expression examples"
   ]
  },
  {
   "cell_type": "markdown",
   "metadata": {},
   "source": [
    "The following table lists the arithmetic operators supported by Python:\n",
    "\n",
    "Operator\tExample\tMeaning\tResult\n",
    "+ (unary)\t+a\tUnary Positive\ta\n",
    "In other words, it doesn’t really do anything. It mostly exists for the sake of completeness, to complement Unary Negation.\n",
    "+ (binary)\ta + b\tAddition\tSum of a and b\n",
    "- (unary)\t-a\tUnary Negation\tValue equal to a but opposite in sign\n",
    "- (binary)\ta - b\tSubtraction\tb subtracted from a\n",
    "*\ta * b\tMultiplication\tProduct of a and b\n",
    "/\ta / b\tDivision\tQuotient when a is divided by b.\n",
    "The result always has type float.\n",
    "%\ta % b\tModulo\tRemainder when a is divided by b\n",
    "//\ta // b\tFloor Division (also called Integer Division)\tQuotient when a is divided by b, rounded to the next smallest whole number\n"
   ]
  },
  {
   "cell_type": "code",
   "execution_count": 1,
   "metadata": {},
   "outputs": [],
   "source": [
    "m=6*2\n",
    "a=6+5"
   ]
  },
  {
   "cell_type": "code",
   "execution_count": 2,
   "metadata": {},
   "outputs": [],
   "source": [
    "# Create a code cell to convert minutes to hours. (2 pts)\n",
    "def toHours(m):\n",
    "    return round(float(m/60),2)"
   ]
  },
  {
   "cell_type": "code",
   "execution_count": 3,
   "metadata": {},
   "outputs": [
    {
     "data": {
      "text/plain": [
       "2.83"
      ]
     },
     "execution_count": 3,
     "metadata": {},
     "output_type": "execute_result"
    }
   ],
   "source": [
    "toHours(170)"
   ]
  },
  {
   "cell_type": "markdown",
   "metadata": {},
   "source": [
    "list Objectives"
   ]
  },
  {
   "cell_type": "markdown",
   "metadata": {},
   "source": [
    "Mahmoud Ezzat"
   ]
  },
  {
   "cell_type": "markdown",
   "metadata": {},
   "source": [
    "https://github.com/mammhoud/coursera-notebook"
   ]
  },
  {
   "cell_type": "markdown",
   "metadata": {},
   "source": [
    "Take a screenshot of the first page of the notebook. (1 pt)"
   ]
  }
 ],
 "metadata": {
  "kernelspec": {
   "display_name": "Python 3",
   "language": "python",
   "name": "python3"
  },
  "language_info": {
   "codemirror_mode": {
    "name": "ipython",
    "version": 3
   },
   "file_extension": ".py",
   "mimetype": "text/x-python",
   "name": "python",
   "nbconvert_exporter": "python",
   "pygments_lexer": "ipython3",
   "version": "3.7.4"
  }
 },
 "nbformat": 4,
 "nbformat_minor": 4
}
